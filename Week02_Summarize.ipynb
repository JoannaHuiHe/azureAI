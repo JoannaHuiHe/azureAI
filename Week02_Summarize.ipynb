{
 "cells": [
  {
   "cell_type": "markdown",
   "metadata": {},
   "source": [
    "# Week2-Assignment01-Summarize"
   ]
  },
  {
   "cell_type": "code",
   "execution_count": 6,
   "metadata": {},
   "outputs": [],
   "source": [
    "import os\n",
    "import openai\n",
    "from dotenv import load_dotenv\n",
    "load_dotenv()\n",
    "\n",
    "# Set up Azure OpenAI\n",
    "openai.api_type = \"azure\"\n",
    "openai.api_version = \"2023-07-01-preview\"\n",
    "\n",
    "# OpenAI Key\n",
    "API_KEY = os.getenv(\"AZURE_OPENAI_API_KEY\",\"\").strip()\n",
    "assert API_KEY, \"ERROR: Azure OpenAI Key is missing\"\n",
    "openai.api_key = API_KEY\n",
    "\n",
    "# OpenAI Endpoint\n",
    "RESOURCE_ENDPOINT = os.getenv(\"AZURE_OPENAI_API_BASE\",\"\").strip()\n",
    "assert RESOURCE_ENDPOINT, \"ERROR: Azure OpenAI Endpoint is missing\"\n",
    "assert \"openai.azure.com\" in RESOURCE_ENDPOINT.lower(), \"ERROR: Azure OpenAI Endpoint should be in the form: \\n\\n\\t<your unique endpoint identifier>.openai.azure.com\"\n",
    "openai.api_base = RESOURCE_ENDPOINT"
   ]
  },
  {
   "cell_type": "code",
   "execution_count": 26,
   "metadata": {},
   "outputs": [
    {
     "name": "stdout",
     "output_type": "stream",
     "text": [
      "Name: openai\n",
      "Version: 0.28.1\n",
      "Summary: Python client library for the OpenAI API\n",
      "Home-page: https://github.com/openai/openai-python\n",
      "Author: OpenAI\n",
      "Author-email: support@openai.com\n",
      "License: \n",
      "Location: c:\\users\\joann\\anaconda3\\envs\\azure\\lib\\site-packages\n",
      "Requires: aiohttp, requests, tqdm\n",
      "Required-by: \n"
     ]
    }
   ],
   "source": [
    "! pip show openai"
   ]
  },
  {
   "cell_type": "code",
   "execution_count": 27,
   "metadata": {},
   "outputs": [
    {
     "name": "stdout",
     "output_type": "stream",
     "text": [
      "Requirement already satisfied: PyPDF2 in c:\\users\\joann\\anaconda3\\envs\\azure\\lib\\site-packages (3.0.1)\n",
      "Requirement already satisfied: typing_extensions>=3.10.0.0 in c:\\users\\joann\\anaconda3\\envs\\azure\\lib\\site-packages (from PyPDF2) (4.8.0)\n"
     ]
    }
   ],
   "source": [
    "! pip install PyPDF2"
   ]
  },
  {
   "cell_type": "code",
   "execution_count": 28,
   "metadata": {},
   "outputs": [],
   "source": [
    "from PyPDF2 import PdfReader "
   ]
  },
  {
   "cell_type": "code",
   "execution_count": 29,
   "metadata": {},
   "outputs": [
    {
     "name": "stdout",
     "output_type": "stream",
     "text": [
      "arXiv:2311.09988v1  [math.AG]  16 Nov 2023Computing deﬁning ideals of space spectral curves\n",
      "for algebro-geometric third order ODOs\n",
      "Sonia L. Rueda\n",
      "Dpto. de Matem´ atica Aplicada, E.T.S. Arquitectura\n",
      "Universidad Polit´ ecnica de Madrid.\n",
      "Avda. Juan de Herrera 4, 28040-Madrid, Spain.\n",
      "sonialuisa.rueda@upm.es\n",
      "Maria-Angeles Zurro\n",
      "Dpto. de Matem´ aticas\n",
      "Universidad Aut´ onoma de Madrid\n",
      "Campus de Cantoblanco, Madrid, Spain\n",
      "mangeles.zurro@uam.es\n",
      "November 17, 2023\n",
      "Abstract\n",
      "Commuting pairs of ordinary diﬀerential operators (ODOs) h ave been related to plane\n",
      "algebraic curves since the work of Burchnall and Chaundy a ce ntury ago. We introduce now\n",
      "the concept of Burchnall-Chaundy (BC) ideal of a commuting p air, as the ideal of all constant\n",
      "coeﬃcient bivariate polynomials satisﬁed by the pair. We pr ove this prime ideal to be equal to\n",
      "the radical of a diﬀerential elimination ideal and the deﬁni ng ideal of a plane algebraic curve,\n",
      "the spectral curve of a commuting pair.\n",
      "The ODOs of this work have coeﬃcients in an arbitrary diﬀeren tial ﬁeld with ﬁeld of\n",
      "constants algebraically closed and of characteristic zero . Motivated by the extension of the\n",
      "recently introduced Picard-Vessiot theory for spectral pr oblemsL(y) =λy, where λis an\n",
      "algebraic parameter, wealsodeﬁnetheBCideal ofanalgebro -geometric thirdorderoperator L.\n",
      "This allows a constructive proof of a famous theorem by I. Sch ur, establishing an isomorphism\n",
      "between the centralizer of Land the coordinate ring of a space algebraic curve, that we de ﬁne\n",
      "as the spectral curve of Land whose deﬁning ideal is the BC ideal of L. We provide the\n",
      "ﬁrst explicit example of a non-planar spectral curve. We com pute a set of generators of the\n",
      "deﬁning ideal of this curve by means of diﬀerential resultan ts and deﬁne a new coeﬃcient ﬁeld\n",
      "determined by the spectral curve, to eﬀectively compute an i ntrinsic right factor of L−λ.\n",
      "Keywords: Ordinarydiﬀerentialoperators,diﬀerentialideal,diﬀerentialres ultant,factorization,\n",
      "spectral curve.\n",
      "MSC[2020]: 13N10, 13P15, 12H05\n",
      "1 Introduction\n",
      "A famous theorem by I. Schur [30] implies that the centralizer of an o rdinary diﬀerential operator,\n",
      "with analytic coeﬃcients, has as quotient ﬁeld a function ﬁeld of one v ariable. Therefore such\n",
      "centralizers can be seen as aﬃne rings of algebraic curves, [28]. In t his work we will call these\n",
      "curvesspectral curves .\n",
      "We consider ordinary diﬀerential operators with coeﬃcients in an ar bitrary diﬀerential ﬁeld\n",
      "Σ, whose ﬁeld of constants Cis algebraically closed and of zero characteristic. We use diﬀeren-\n",
      "tial algebra, diﬀerential Galois theory and algebraic geometry to giv e a constructive proof of the\n",
      "following theorem.\n",
      "Theorem 1.1. The centralizer of a third order ordinary diﬀerential opera torL, with non constant\n",
      "coeﬃcients in Σ, is either isomorphic to a polynomial ring in one variable or to the coordinate ring\n",
      "C[Γ]of an irreducible (space) algebraic curve Γ.\n"
     ]
    }
   ],
   "source": [
    "# PDF to text\n",
    "from PyPDF2 import PdfReader \n",
    "\n",
    "with open(\"C:/Users/joann/Downloads/Papers/Math/2311.09988.pdf\", \"rb\") as pdf_file:\n",
    "    read_pdf = PdfReader(pdf_file)\n",
    "    paper_numbers = len(read_pdf.pages)\n",
    "    page = read_pdf.pages[0]\n",
    "    paper_text = page.extract_text()\n",
    "    print(paper_text)\n"
   ]
  },
  {
   "cell_type": "code",
   "execution_count": 30,
   "metadata": {},
   "outputs": [],
   "source": [
    "prompt = paper_text"
   ]
  },
  {
   "cell_type": "code",
   "execution_count": 31,
   "metadata": {},
   "outputs": [],
   "source": [
    "import openai\n",
    "\n",
    "# Set up Azure OpenAI\n",
    "openai.api_type = \"azure\"\n",
    "openai.api_version = \"2023-07-01-preview\""
   ]
  },
  {
   "cell_type": "code",
   "execution_count": 32,
   "metadata": {},
   "outputs": [
    {
     "data": {
      "text/plain": [
       "\"The paper discusses the concept of Burchnall-Chaundy ideal of a commuting pair of ordinary differential operators (ODOs) and its relation to algebraic curves, known as spectral curves. The authors introduce a new type of ODOs and define their Burchnall-Chaundy ideal, which is used to prove Schur's theorem on the isomorphism between centralizers of ODOs and function fields of algebraic curves. The paper also provides an explicit example of a non-planar spectral curve and computes its defining ideal using differential resultants. Keywords include ODOs, spectral curves, differential ideals, differential resultant, and factorization.\""
      ]
     },
     "execution_count": 32,
     "metadata": {},
     "output_type": "execute_result"
    }
   ],
   "source": [
    "# Summarize\n",
    "response = openai.ChatCompletion.create(\n",
    "  engine=os.getenv(\"AZURE_OPENAI_API_MODEL\"),\n",
    "  messages = [{\"role\":\"system\", \"content\":\"You are a helpful assistant. Summerize the content below in a few sentences.\"},\n",
    "               {\"role\":\"user\",\"content\":prompt},])\n",
    "\n",
    "response['choices'][0]['message']['content']"
   ]
  },
  {
   "cell_type": "markdown",
   "metadata": {},
   "source": []
  }
 ],
 "metadata": {
  "kernelspec": {
   "display_name": "Python 3",
   "language": "python",
   "name": "python3"
  },
  "language_info": {
   "codemirror_mode": {
    "name": "ipython",
    "version": 3
   },
   "file_extension": ".py",
   "mimetype": "text/x-python",
   "name": "python",
   "nbconvert_exporter": "python",
   "pygments_lexer": "ipython3",
   "version": "3.9.18"
  }
 },
 "nbformat": 4,
 "nbformat_minor": 2
}
