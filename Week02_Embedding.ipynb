{
 "cells": [
  {
   "cell_type": "markdown",
   "metadata": {},
   "source": [
    "# Week2-Assignment02-Embedding"
   ]
  },
  {
   "cell_type": "code",
   "execution_count": 1,
   "metadata": {},
   "outputs": [],
   "source": [
    "import os\n",
    "import openai\n",
    "from dotenv import load_dotenv\n",
    "load_dotenv()\n",
    "\n",
    "# Set up Azure OpenAI\n",
    "openai.api_type = \"azure\"\n",
    "openai.api_version = \"2023-07-01-preview\"\n",
    "\n",
    "# OpenAI Key\n",
    "API_KEY = os.getenv(\"AZURE_OPENAI_API_KEY\",\"\").strip()\n",
    "assert API_KEY, \"ERROR: Azure OpenAI Key is missing\"\n",
    "openai.api_key = API_KEY\n",
    "\n",
    "# OpenAI Endpoint\n",
    "RESOURCE_ENDPOINT = os.getenv(\"AZURE_OPENAI_API_BASE\",\"\").strip()\n",
    "assert RESOURCE_ENDPOINT, \"ERROR: Azure OpenAI Endpoint is missing\"\n",
    "assert \"openai.azure.com\" in RESOURCE_ENDPOINT.lower(), \"ERROR: Azure OpenAI Endpoint should be in the form: \\n\\n\\t<your unique endpoint identifier>.openai.azure.com\"\n",
    "openai.api_base = RESOURCE_ENDPOINT"
   ]
  },
  {
   "cell_type": "code",
   "execution_count": 2,
   "metadata": {},
   "outputs": [
    {
     "name": "stdout",
     "output_type": "stream",
     "text": [
      "Requirement already satisfied: pandas in c:\\users\\joann\\anaconda3\\envs\\azure\\lib\\site-packages (2.1.3)\n",
      "Requirement already satisfied: numpy<2,>=1.22.4 in c:\\users\\joann\\anaconda3\\envs\\azure\\lib\\site-packages (from pandas) (1.26.2)\n",
      "Requirement already satisfied: python-dateutil>=2.8.2 in c:\\users\\joann\\anaconda3\\envs\\azure\\lib\\site-packages (from pandas) (2.8.2)\n",
      "Requirement already satisfied: pytz>=2020.1 in c:\\users\\joann\\anaconda3\\envs\\azure\\lib\\site-packages (from pandas) (2023.3.post1)\n",
      "Requirement already satisfied: tzdata>=2022.1 in c:\\users\\joann\\anaconda3\\envs\\azure\\lib\\site-packages (from pandas) (2023.3)\n",
      "Requirement already satisfied: six>=1.5 in c:\\users\\joann\\anaconda3\\envs\\azure\\lib\\site-packages (from python-dateutil>=2.8.2->pandas) (1.16.0)\n"
     ]
    }
   ],
   "source": [
    "! pip install pandas"
   ]
  },
  {
   "cell_type": "code",
   "execution_count": 3,
   "metadata": {},
   "outputs": [
    {
     "data": {
      "text/html": [
       "<div>\n",
       "<style scoped>\n",
       "    .dataframe tbody tr th:only-of-type {\n",
       "        vertical-align: middle;\n",
       "    }\n",
       "\n",
       "    .dataframe tbody tr th {\n",
       "        vertical-align: top;\n",
       "    }\n",
       "\n",
       "    .dataframe thead th {\n",
       "        text-align: right;\n",
       "    }\n",
       "</style>\n",
       "<table border=\"1\" class=\"dataframe\">\n",
       "  <thead>\n",
       "    <tr style=\"text-align: right;\">\n",
       "      <th></th>\n",
       "      <th>category</th>\n",
       "      <th>filename</th>\n",
       "      <th>title</th>\n",
       "      <th>content</th>\n",
       "    </tr>\n",
       "  </thead>\n",
       "  <tbody>\n",
       "    <tr>\n",
       "      <th>0</th>\n",
       "      <td>business</td>\n",
       "      <td>001.txt</td>\n",
       "      <td>Ad sales boost Time Warner profit</td>\n",
       "      <td>Quarterly profits at US media giant TimeWarne...</td>\n",
       "    </tr>\n",
       "    <tr>\n",
       "      <th>1</th>\n",
       "      <td>business</td>\n",
       "      <td>002.txt</td>\n",
       "      <td>Dollar gains on Greenspan speech</td>\n",
       "      <td>The dollar has hit its highest level against ...</td>\n",
       "    </tr>\n",
       "    <tr>\n",
       "      <th>2</th>\n",
       "      <td>business</td>\n",
       "      <td>003.txt</td>\n",
       "      <td>Yukos unit buyer faces loan claim</td>\n",
       "      <td>The owners of embattled Russian oil giant Yuk...</td>\n",
       "    </tr>\n",
       "    <tr>\n",
       "      <th>3</th>\n",
       "      <td>business</td>\n",
       "      <td>004.txt</td>\n",
       "      <td>High fuel prices hit BA's profits</td>\n",
       "      <td>British Airways has blamed high fuel prices f...</td>\n",
       "    </tr>\n",
       "    <tr>\n",
       "      <th>4</th>\n",
       "      <td>business</td>\n",
       "      <td>005.txt</td>\n",
       "      <td>Pernod takeover talk lifts Domecq</td>\n",
       "      <td>Shares in UK drinks and food firm Allied Dome...</td>\n",
       "    </tr>\n",
       "    <tr>\n",
       "      <th>...</th>\n",
       "      <td>...</td>\n",
       "      <td>...</td>\n",
       "      <td>...</td>\n",
       "      <td>...</td>\n",
       "    </tr>\n",
       "    <tr>\n",
       "      <th>2220</th>\n",
       "      <td>tech</td>\n",
       "      <td>397.txt</td>\n",
       "      <td>BT program to beat dialler scams</td>\n",
       "      <td>BT is introducing two initiatives to help bea...</td>\n",
       "    </tr>\n",
       "    <tr>\n",
       "      <th>2221</th>\n",
       "      <td>tech</td>\n",
       "      <td>398.txt</td>\n",
       "      <td>Spam e-mails tempt net shoppers</td>\n",
       "      <td>Computer users across the world continue to i...</td>\n",
       "    </tr>\n",
       "    <tr>\n",
       "      <th>2222</th>\n",
       "      <td>tech</td>\n",
       "      <td>399.txt</td>\n",
       "      <td>Be careful how you code</td>\n",
       "      <td>A new European directive could put software w...</td>\n",
       "    </tr>\n",
       "    <tr>\n",
       "      <th>2223</th>\n",
       "      <td>tech</td>\n",
       "      <td>400.txt</td>\n",
       "      <td>US cyber security chief resigns</td>\n",
       "      <td>The man making sure US computer networks are ...</td>\n",
       "    </tr>\n",
       "    <tr>\n",
       "      <th>2224</th>\n",
       "      <td>tech</td>\n",
       "      <td>401.txt</td>\n",
       "      <td>Losing yourself in online gaming</td>\n",
       "      <td>Online role playing games are time-consuming,...</td>\n",
       "    </tr>\n",
       "  </tbody>\n",
       "</table>\n",
       "<p>2225 rows × 4 columns</p>\n",
       "</div>"
      ],
      "text/plain": [
       "      category filename                              title  \\\n",
       "0     business  001.txt  Ad sales boost Time Warner profit   \n",
       "1     business  002.txt   Dollar gains on Greenspan speech   \n",
       "2     business  003.txt  Yukos unit buyer faces loan claim   \n",
       "3     business  004.txt  High fuel prices hit BA's profits   \n",
       "4     business  005.txt  Pernod takeover talk lifts Domecq   \n",
       "...        ...      ...                                ...   \n",
       "2220      tech  397.txt   BT program to beat dialler scams   \n",
       "2221      tech  398.txt    Spam e-mails tempt net shoppers   \n",
       "2222      tech  399.txt            Be careful how you code   \n",
       "2223      tech  400.txt    US cyber security chief resigns   \n",
       "2224      tech  401.txt   Losing yourself in online gaming   \n",
       "\n",
       "                                                content  \n",
       "0      Quarterly profits at US media giant TimeWarne...  \n",
       "1      The dollar has hit its highest level against ...  \n",
       "2      The owners of embattled Russian oil giant Yuk...  \n",
       "3      British Airways has blamed high fuel prices f...  \n",
       "4      Shares in UK drinks and food firm Allied Dome...  \n",
       "...                                                 ...  \n",
       "2220   BT is introducing two initiatives to help bea...  \n",
       "2221   Computer users across the world continue to i...  \n",
       "2222   A new European directive could put software w...  \n",
       "2223   The man making sure US computer networks are ...  \n",
       "2224   Online role playing games are time-consuming,...  \n",
       "\n",
       "[2225 rows x 4 columns]"
      ]
     },
     "execution_count": 3,
     "metadata": {},
     "output_type": "execute_result"
    }
   ],
   "source": [
    "import pandas as pd\n",
    "\n",
    "df_orig = pd.read_csv(\"C:/Users/joann/Downloads/Notes/Open AI/AzureAI_WK02/Homework_Week2/Louis/data/bbc/bbc-news-data.csv\", delimiter='\\t')\n",
    "df = df_orig.copy()\n",
    "df"
   ]
  },
  {
   "cell_type": "code",
   "execution_count": null,
   "metadata": {},
   "outputs": [],
   "source": [
    "import time\n",
    "df['embedding'] = ''\n",
    "\n",
    "for i in range(len(df)):    \n",
    "     while True:\n",
    "         try:\n",
    "             embedding = openai.Embedding.create(input=df['content'][i], deployment_id=os.getenv(\"EMBEDDINGS_NAME\"))\n",
    "             df['embedding'][i] = embedding['data'][0]['embedding']\n",
    "             break\n",
    "         except Exception as err:\n",
    "             print(f\"Unexpected {err=}, {type(err)=}\")\n",
    "             time.sleep(5)\n",
    "\n",
    "#Save Embeddings\n",
    "df.to_csv(\"C:/Users/joann/Downloads/Notes/Open AI/AzureAI_WK02/Homework_Week2/bbc-news-data-embedding.csv\", sep='\\t', index=False)"
   ]
  },
  {
   "cell_type": "markdown",
   "metadata": {},
   "source": [
    "# Load all embeddings"
   ]
  },
  {
   "cell_type": "code",
   "execution_count": 9,
   "metadata": {},
   "outputs": [],
   "source": [
    "import numpy as np\n",
    "\n",
    "# Load small embeddings dataset\n",
    "df = pd.read_csv(\"C:/Users/joann/Downloads/Notes/Open AI/AzureAI_WK02/Homework_Week2/Louis/data/bbc/bbc-news-data-embedding_small.csv\", sep='\\t')\n",
    "\n",
    "# convert string to array\n",
    "df[\"embedding\"] = df['embedding'].apply(eval).apply(np.array)"
   ]
  },
  {
   "cell_type": "markdown",
   "metadata": {},
   "source": [
    "# Visualize embeddings"
   ]
  },
  {
   "cell_type": "code",
   "execution_count": 14,
   "metadata": {},
   "outputs": [
    {
     "name": "stdout",
     "output_type": "stream",
     "text": [
      "Requirement already satisfied: numpy in c:\\users\\joann\\anaconda3\\envs\\azure\\lib\\site-packages (1.26.2)\n",
      "Collecting scipy\n",
      "  Downloading scipy-1.11.4-cp39-cp39-win_amd64.whl.metadata (60 kB)\n",
      "     ---------------------------------------- 0.0/60.4 kB ? eta -:--:--\n",
      "     ------ --------------------------------- 10.2/60.4 kB ? eta -:--:--\n",
      "     ------------------- ------------------ 30.7/60.4 kB 262.6 kB/s eta 0:00:01\n",
      "     -------------------------------- ----- 51.2/60.4 kB 372.4 kB/s eta 0:00:01\n",
      "     -------------------------------------- 60.4/60.4 kB 355.8 kB/s eta 0:00:00\n",
      "Collecting scikit-learn\n",
      "  Downloading scikit_learn-1.3.2-cp39-cp39-win_amd64.whl.metadata (11 kB)\n",
      "Collecting joblib>=1.1.1 (from scikit-learn)\n",
      "  Downloading joblib-1.3.2-py3-none-any.whl.metadata (5.4 kB)\n",
      "Collecting threadpoolctl>=2.0.0 (from scikit-learn)\n",
      "  Downloading threadpoolctl-3.2.0-py3-none-any.whl.metadata (10.0 kB)\n",
      "Downloading scipy-1.11.4-cp39-cp39-win_amd64.whl (44.3 MB)\n",
      "   ---------------------------------------- 0.0/44.3 MB ? eta -:--:--\n",
      "   ---------------------------------------- 0.2/44.3 MB 6.9 MB/s eta 0:00:07\n",
      "   - -------------------------------------- 1.2/44.3 MB 15.5 MB/s eta 0:00:03\n",
      "   -- ------------------------------------- 3.3/44.3 MB 26.5 MB/s eta 0:00:02\n",
      "   ---- ----------------------------------- 4.7/44.3 MB 27.1 MB/s eta 0:00:02\n",
      "   ----- ---------------------------------- 6.4/44.3 MB 29.3 MB/s eta 0:00:02\n",
      "   ------- -------------------------------- 7.8/44.3 MB 27.5 MB/s eta 0:00:02\n",
      "   -------- ------------------------------- 9.1/44.3 MB 27.7 MB/s eta 0:00:02\n",
      "   --------- ------------------------------ 10.3/44.3 MB 28.5 MB/s eta 0:00:02\n",
      "   ---------- ----------------------------- 11.4/44.3 MB 29.7 MB/s eta 0:00:02\n",
      "   ----------- ---------------------------- 12.2/44.3 MB 26.2 MB/s eta 0:00:02\n",
      "   ----------- ---------------------------- 13.0/44.3 MB 24.3 MB/s eta 0:00:02\n",
      "   ------------ --------------------------- 13.8/44.3 MB 25.1 MB/s eta 0:00:02\n",
      "   ------------- -------------------------- 14.9/44.3 MB 24.2 MB/s eta 0:00:02\n",
      "   -------------- ------------------------- 15.9/44.3 MB 22.6 MB/s eta 0:00:02\n",
      "   --------------- ------------------------ 17.0/44.3 MB 21.8 MB/s eta 0:00:02\n",
      "   ---------------- ----------------------- 18.1/44.3 MB 21.8 MB/s eta 0:00:02\n",
      "   ----------------- ---------------------- 19.2/44.3 MB 21.1 MB/s eta 0:00:02\n",
      "   ------------------ --------------------- 20.2/44.3 MB 21.1 MB/s eta 0:00:02\n",
      "   ------------------- -------------------- 21.3/44.3 MB 21.1 MB/s eta 0:00:02\n",
      "   -------------------- ------------------- 22.4/44.3 MB 21.9 MB/s eta 0:00:01\n",
      "   --------------------- ------------------ 23.5/44.3 MB 21.8 MB/s eta 0:00:01\n",
      "   --------------------- ------------------ 24.3/44.3 MB 21.1 MB/s eta 0:00:01\n",
      "   ---------------------- ----------------- 25.4/44.3 MB 21.8 MB/s eta 0:00:01\n",
      "   ----------------------- ---------------- 26.5/44.3 MB 22.6 MB/s eta 0:00:01\n",
      "   ------------------------- -------------- 27.7/44.3 MB 22.6 MB/s eta 0:00:01\n",
      "   -------------------------- ------------- 28.9/44.3 MB 22.5 MB/s eta 0:00:01\n",
      "   --------------------------- ------------ 30.0/44.3 MB 23.4 MB/s eta 0:00:01\n",
      "   ---------------------------- ----------- 31.1/44.3 MB 22.6 MB/s eta 0:00:01\n",
      "   ---------------------------- ----------- 31.9/44.3 MB 23.4 MB/s eta 0:00:01\n",
      "   ----------------------------- ---------- 33.1/44.3 MB 23.4 MB/s eta 0:00:01\n",
      "   ------------------------------- -------- 34.4/44.3 MB 22.5 MB/s eta 0:00:01\n",
      "   ------------------------------- -------- 35.2/44.3 MB 23.4 MB/s eta 0:00:01\n",
      "   -------------------------------- ------- 36.3/44.3 MB 22.6 MB/s eta 0:00:01\n",
      "   --------------------------------- ------ 37.3/44.3 MB 22.6 MB/s eta 0:00:01\n",
      "   ---------------------------------- ----- 38.5/44.3 MB 21.8 MB/s eta 0:00:01\n",
      "   ----------------------------------- ---- 39.4/44.3 MB 22.6 MB/s eta 0:00:01\n",
      "   ------------------------------------ --- 40.3/44.3 MB 21.9 MB/s eta 0:00:01\n",
      "   ------------------------------------- -- 41.4/44.3 MB 21.1 MB/s eta 0:00:01\n",
      "   -------------------------------------- - 42.3/44.3 MB 20.5 MB/s eta 0:00:01\n",
      "   -------------------------------------- - 43.1/44.3 MB 20.5 MB/s eta 0:00:01\n",
      "   ---------------------------------------  44.0/44.3 MB 20.5 MB/s eta 0:00:01\n",
      "   ---------------------------------------  44.3/44.3 MB 19.2 MB/s eta 0:00:01\n",
      "   ---------------------------------------  44.3/44.3 MB 19.2 MB/s eta 0:00:01\n",
      "   ---------------------------------------- 44.3/44.3 MB 16.8 MB/s eta 0:00:00\n",
      "Downloading scikit_learn-1.3.2-cp39-cp39-win_amd64.whl (9.3 MB)\n",
      "   ---------------------------------------- 0.0/9.3 MB ? eta -:--:--\n",
      "   ---- ----------------------------------- 1.0/9.3 MB 21.4 MB/s eta 0:00:01\n",
      "   ------- -------------------------------- 1.8/9.3 MB 22.3 MB/s eta 0:00:01\n",
      "   ----------- ---------------------------- 2.7/9.3 MB 19.2 MB/s eta 0:00:01\n",
      "   --------------- ------------------------ 3.6/9.3 MB 17.7 MB/s eta 0:00:01\n",
      "   ------------------ --------------------- 4.3/9.3 MB 18.3 MB/s eta 0:00:01\n",
      "   ---------------------- ----------------- 5.2/9.3 MB 18.4 MB/s eta 0:00:01\n",
      "   -------------------------- ------------- 6.2/9.3 MB 17.9 MB/s eta 0:00:01\n",
      "   ----------------------------- ---------- 6.9/9.3 MB 18.3 MB/s eta 0:00:01\n",
      "   --------------------------------- ------ 7.8/9.3 MB 17.7 MB/s eta 0:00:01\n",
      "   ------------------------------------ --- 8.6/9.3 MB 17.7 MB/s eta 0:00:01\n",
      "   ---------------------------------------  9.3/9.3 MB 18.6 MB/s eta 0:00:01\n",
      "   ---------------------------------------- 9.3/9.3 MB 17.0 MB/s eta 0:00:00\n",
      "Downloading joblib-1.3.2-py3-none-any.whl (302 kB)\n",
      "   ---------------------------------------- 0.0/302.2 kB ? eta -:--:--\n",
      "   ---------------------------------------- 302.2/302.2 kB 9.1 MB/s eta 0:00:00\n",
      "Downloading threadpoolctl-3.2.0-py3-none-any.whl (15 kB)\n",
      "Installing collected packages: threadpoolctl, scipy, joblib, scikit-learn\n",
      "Successfully installed joblib-1.3.2 scikit-learn-1.3.2 scipy-1.11.4 threadpoolctl-3.2.0\n",
      "Note: you may need to restart the kernel to use updated packages.\n"
     ]
    }
   ],
   "source": [
    "! pip install numpy scipy scikit-learn"
   ]
  },
  {
   "cell_type": "code",
   "execution_count": 15,
   "metadata": {},
   "outputs": [],
   "source": [
    "from sklearn.decomposition import PCA\n",
    "pca = PCA(n_components=2)\n",
    "vis_dims_pca = pca.fit_transform(df['embedding'].to_list())\n",
    "vis_dims_pca.shape\n",
    "# vis_dims_pca\n",
    "\n",
    "df[\"vis_dims_pca\"] = vis_dims_pca.tolist()"
   ]
  },
  {
   "cell_type": "code",
   "execution_count": 20,
   "metadata": {},
   "outputs": [
    {
     "name": "stdout",
     "output_type": "stream",
     "text": [
      "Collecting matplotlib\n",
      "  Downloading matplotlib-3.8.2-cp39-cp39-win_amd64.whl.metadata (5.9 kB)\n",
      "Collecting contourpy>=1.0.1 (from matplotlib)\n",
      "  Downloading contourpy-1.2.0-cp39-cp39-win_amd64.whl.metadata (5.8 kB)\n",
      "Collecting cycler>=0.10 (from matplotlib)\n",
      "  Downloading cycler-0.12.1-py3-none-any.whl.metadata (3.8 kB)\n",
      "Collecting fonttools>=4.22.0 (from matplotlib)\n",
      "  Downloading fonttools-4.45.0-cp39-cp39-win_amd64.whl.metadata (158 kB)\n",
      "     ---------------------------------------- 0.0/158.1 kB ? eta -:--:--\n",
      "     -- ------------------------------------- 10.2/158.1 kB ? eta -:--:--\n",
      "     -------------------------------------- 158.1/158.1 kB 1.9 MB/s eta 0:00:00\n",
      "Collecting kiwisolver>=1.3.1 (from matplotlib)\n",
      "  Downloading kiwisolver-1.4.5-cp39-cp39-win_amd64.whl.metadata (6.5 kB)\n",
      "Requirement already satisfied: numpy<2,>=1.21 in c:\\users\\joann\\anaconda3\\envs\\azure\\lib\\site-packages (from matplotlib) (1.26.2)\n",
      "Requirement already satisfied: packaging>=20.0 in c:\\users\\joann\\anaconda3\\envs\\azure\\lib\\site-packages (from matplotlib) (23.2)\n",
      "Collecting pillow>=8 (from matplotlib)\n",
      "  Downloading Pillow-10.1.0-cp39-cp39-win_amd64.whl.metadata (9.6 kB)\n",
      "Collecting pyparsing>=2.3.1 (from matplotlib)\n",
      "  Downloading pyparsing-3.1.1-py3-none-any.whl.metadata (5.1 kB)\n",
      "Requirement already satisfied: python-dateutil>=2.7 in c:\\users\\joann\\anaconda3\\envs\\azure\\lib\\site-packages (from matplotlib) (2.8.2)\n",
      "Collecting importlib-resources>=3.2.0 (from matplotlib)\n",
      "  Downloading importlib_resources-6.1.1-py3-none-any.whl.metadata (4.1 kB)\n",
      "Requirement already satisfied: zipp>=3.1.0 in c:\\users\\joann\\anaconda3\\envs\\azure\\lib\\site-packages (from importlib-resources>=3.2.0->matplotlib) (3.17.0)\n",
      "Requirement already satisfied: six>=1.5 in c:\\users\\joann\\anaconda3\\envs\\azure\\lib\\site-packages (from python-dateutil>=2.7->matplotlib) (1.16.0)\n",
      "Downloading matplotlib-3.8.2-cp39-cp39-win_amd64.whl (7.6 MB)\n",
      "   ---------------------------------------- 0.0/7.6 MB ? eta -:--:--\n",
      "   ---- ----------------------------------- 0.9/7.6 MB 18.7 MB/s eta 0:00:01\n",
      "   --------- ------------------------------ 1.8/7.6 MB 22.9 MB/s eta 0:00:01\n",
      "   ------------------ --------------------- 3.5/7.6 MB 27.9 MB/s eta 0:00:01\n",
      "   -------------------------------- ------- 6.2/7.6 MB 35.8 MB/s eta 0:00:01\n",
      "   ---------------------------------------  7.6/7.6 MB 34.8 MB/s eta 0:00:01\n",
      "   ---------------------------------------- 7.6/7.6 MB 30.5 MB/s eta 0:00:00\n",
      "Downloading contourpy-1.2.0-cp39-cp39-win_amd64.whl (181 kB)\n",
      "   ---------------------------------------- 0.0/181.9 kB ? eta -:--:--\n",
      "   ---------------------------------------- 181.9/181.9 kB ? eta 0:00:00\n",
      "Downloading cycler-0.12.1-py3-none-any.whl (8.3 kB)\n",
      "Downloading fonttools-4.45.0-cp39-cp39-win_amd64.whl (2.2 MB)\n",
      "   ---------------------------------------- 0.0/2.2 MB ? eta -:--:--\n",
      "   --------------------------------- ------ 1.8/2.2 MB 57.1 MB/s eta 0:00:01\n",
      "   ---------------------------------------- 2.2/2.2 MB 27.5 MB/s eta 0:00:00\n",
      "Downloading importlib_resources-6.1.1-py3-none-any.whl (33 kB)\n",
      "Downloading kiwisolver-1.4.5-cp39-cp39-win_amd64.whl (56 kB)\n",
      "   ---------------------------------------- 0.0/56.2 kB ? eta -:--:--\n",
      "   ---------------------------------------- 56.2/56.2 kB ? eta 0:00:00\n",
      "Downloading Pillow-10.1.0-cp39-cp39-win_amd64.whl (2.6 MB)\n",
      "   ---------------------------------------- 0.0/2.6 MB ? eta -:--:--\n",
      "   --------------- ------------------------ 1.0/2.6 MB 65.5 MB/s eta 0:00:01\n",
      "   -------------------------------- ------- 2.1/2.6 MB 22.7 MB/s eta 0:00:01\n",
      "   ---------------------------------------- 2.6/2.6 MB 20.8 MB/s eta 0:00:00\n",
      "Downloading pyparsing-3.1.1-py3-none-any.whl (103 kB)\n",
      "   ---------------------------------------- 0.0/103.1 kB ? eta -:--:--\n",
      "   ---------------------------------------- 103.1/103.1 kB 5.8 MB/s eta 0:00:00\n",
      "Installing collected packages: pyparsing, pillow, kiwisolver, importlib-resources, fonttools, cycler, contourpy, matplotlib\n",
      "Successfully installed contourpy-1.2.0 cycler-0.12.1 fonttools-4.45.0 importlib-resources-6.1.1 kiwisolver-1.4.5 matplotlib-3.8.2 pillow-10.1.0 pyparsing-3.1.1\n"
     ]
    }
   ],
   "source": [
    "! pip install matplotlib"
   ]
  },
  {
   "cell_type": "code",
   "execution_count": 21,
   "metadata": {},
   "outputs": [
    {
     "data": {
      "image/png": "[encoded data removed]",
      "text/plain": [
       "<Figure size 640x480 with 1 Axes>"
      ]
     },
     "metadata": {},
     "output_type": "display_data"
    }
   ],
   "source": [
    "import matplotlib.pyplot as plt\n",
    "\n",
    "### Now we visualize the reduced data in 2D plot\n",
    "df[['x', 'y']] = pd.DataFrame(df['vis_dims_pca'].to_list(), index=df.index)\n",
    "\n",
    "# Create a scatter plot with colors determined by 'category'\n",
    "categories = df['category'].unique()\n",
    "colors = plt.cm.rainbow(np.linspace(0, 1, len(categories)))\n",
    "\n",
    "for i, category in enumerate(categories):\n",
    "    df_category = df[df['category'] == category]\n",
    "    plt.scatter(df_category['x'], df_category['y'], color=colors[i], label=category)\n",
    "\n",
    "plt.legend()\n",
    "plt.show()"
   ]
  },
  {
   "cell_type": "markdown",
   "metadata": {},
   "source": [
    "# Classify news"
   ]
  },
  {
   "cell_type": "code",
   "execution_count": 23,
   "metadata": {},
   "outputs": [],
   "source": [
    "df = pd.read_csv(\"C:/Users/joann/Downloads/Notes/Open AI/AzureAI_WK02/Homework_Week2/Louis/data/bbc/bbc-news-data-embedding_full.csv\", sep='\\t') \n",
    "df[\"embedding\"] = df['embedding'].apply(eval).apply(np.array)"
   ]
  },
  {
   "cell_type": "code",
   "execution_count": 24,
   "metadata": {},
   "outputs": [],
   "source": [
    "from sklearn.model_selection import train_test_split\n",
    "\n",
    "X_train, X_test, y_train, y_test = train_test_split(df['embedding'], df['category'], test_size=0.2, random_state=42)"
   ]
  },
  {
   "cell_type": "code",
   "execution_count": 25,
   "metadata": {},
   "outputs": [
    {
     "data": {
      "text/html": [
       "<style>#sk-container-id-1 {color: black;}#sk-container-id-1 pre{padding: 0;}#sk-container-id-1 div.sk-toggleable {background-color: white;}#sk-container-id-1 label.sk-toggleable__label {cursor: pointer;display: block;width: 100%;margin-bottom: 0;padding: 0.3em;box-sizing: border-box;text-align: center;}#sk-container-id-1 label.sk-toggleable__label-arrow:before {content: \"▸\";float: left;margin-right: 0.25em;color: #696969;}#sk-container-id-1 label.sk-toggleable__label-arrow:hover:before {color: black;}#sk-container-id-1 div.sk-estimator:hover label.sk-toggleable__label-arrow:before {color: black;}#sk-container-id-1 div.sk-toggleable__content {max-height: 0;max-width: 0;overflow: hidden;text-align: left;background-color: #f0f8ff;}#sk-container-id-1 div.sk-toggleable__content pre {margin: 0.2em;color: black;border-radius: 0.25em;background-color: #f0f8ff;}#sk-container-id-1 input.sk-toggleable__control:checked~div.sk-toggleable__content {max-height: 200px;max-width: 100%;overflow: auto;}#sk-container-id-1 input.sk-toggleable__control:checked~label.sk-toggleable__label-arrow:before {content: \"▾\";}#sk-container-id-1 div.sk-estimator input.sk-toggleable__control:checked~label.sk-toggleable__label {background-color: #d4ebff;}#sk-container-id-1 div.sk-label input.sk-toggleable__control:checked~label.sk-toggleable__label {background-color: #d4ebff;}#sk-container-id-1 input.sk-hidden--visually {border: 0;clip: rect(1px 1px 1px 1px);clip: rect(1px, 1px, 1px, 1px);height: 1px;margin: -1px;overflow: hidden;padding: 0;position: absolute;width: 1px;}#sk-container-id-1 div.sk-estimator {font-family: monospace;background-color: #f0f8ff;border: 1px dotted black;border-radius: 0.25em;box-sizing: border-box;margin-bottom: 0.5em;}#sk-container-id-1 div.sk-estimator:hover {background-color: #d4ebff;}#sk-container-id-1 div.sk-parallel-item::after {content: \"\";width: 100%;border-bottom: 1px solid gray;flex-grow: 1;}#sk-container-id-1 div.sk-label:hover label.sk-toggleable__label {background-color: #d4ebff;}#sk-container-id-1 div.sk-serial::before {content: \"\";position: absolute;border-left: 1px solid gray;box-sizing: border-box;top: 0;bottom: 0;left: 50%;z-index: 0;}#sk-container-id-1 div.sk-serial {display: flex;flex-direction: column;align-items: center;background-color: white;padding-right: 0.2em;padding-left: 0.2em;position: relative;}#sk-container-id-1 div.sk-item {position: relative;z-index: 1;}#sk-container-id-1 div.sk-parallel {display: flex;align-items: stretch;justify-content: center;background-color: white;position: relative;}#sk-container-id-1 div.sk-item::before, #sk-container-id-1 div.sk-parallel-item::before {content: \"\";position: absolute;border-left: 1px solid gray;box-sizing: border-box;top: 0;bottom: 0;left: 50%;z-index: -1;}#sk-container-id-1 div.sk-parallel-item {display: flex;flex-direction: column;z-index: 1;position: relative;background-color: white;}#sk-container-id-1 div.sk-parallel-item:first-child::after {align-self: flex-end;width: 50%;}#sk-container-id-1 div.sk-parallel-item:last-child::after {align-self: flex-start;width: 50%;}#sk-container-id-1 div.sk-parallel-item:only-child::after {width: 0;}#sk-container-id-1 div.sk-dashed-wrapped {border: 1px dashed gray;margin: 0 0.4em 0.5em 0.4em;box-sizing: border-box;padding-bottom: 0.4em;background-color: white;}#sk-container-id-1 div.sk-label label {font-family: monospace;font-weight: bold;display: inline-block;line-height: 1.2em;}#sk-container-id-1 div.sk-label-container {text-align: center;}#sk-container-id-1 div.sk-container {/* jupyter's `normalize.less` sets `[hidden] { display: none; }` but bootstrap.min.css set `[hidden] { display: none !important; }` so we also need the `!important` here to be able to override the default hidden behavior on the sphinx rendered scikit-learn.org. See: https://github.com/scikit-learn/scikit-learn/issues/21755 */display: inline-block !important;position: relative;}#sk-container-id-1 div.sk-text-repr-fallback {display: none;}</style><div id=\"sk-container-id-1\" class=\"sk-top-container\"><div class=\"sk-text-repr-fallback\"><pre>KNeighborsClassifier()</pre><b>In a Jupyter environment, please rerun this cell to show the HTML representation or trust the notebook. <br />On GitHub, the HTML representation is unable to render, please try loading this page with nbviewer.org.</b></div><div class=\"sk-container\" hidden><div class=\"sk-item\"><div class=\"sk-estimator sk-toggleable\"><input class=\"sk-toggleable__control sk-hidden--visually\" id=\"sk-estimator-id-1\" type=\"checkbox\" checked><label for=\"sk-estimator-id-1\" class=\"sk-toggleable__label sk-toggleable__label-arrow\">KNeighborsClassifier</label><div class=\"sk-toggleable__content\"><pre>KNeighborsClassifier()</pre></div></div></div></div></div>"
      ],
      "text/plain": [
       "KNeighborsClassifier()"
      ]
     },
     "execution_count": 25,
     "metadata": {},
     "output_type": "execute_result"
    }
   ],
   "source": [
    "# KNN Model\n",
    "from sklearn.neighbors import KNeighborsClassifier\n",
    "knn = KNeighborsClassifier(n_neighbors=5)\n",
    "knn.fit(X_train.to_list(), y_train.to_list())"
   ]
  },
  {
   "cell_type": "code",
   "execution_count": 26,
   "metadata": {},
   "outputs": [],
   "source": [
    "# predict\n",
    "y_pred = knn.predict(X_test.to_list())"
   ]
  },
  {
   "cell_type": "code",
   "execution_count": 27,
   "metadata": {},
   "outputs": [
    {
     "name": "stdout",
     "output_type": "stream",
     "text": [
      "[[108   0   5   0   2]\n",
      " [  2  68   0   0   2]\n",
      " [  0   0  75   0   1]\n",
      " [  1   0   0 101   0]\n",
      " [  1   2   2   0  75]]\n",
      "               precision    recall  f1-score   support\n",
      "\n",
      "     business       0.96      0.94      0.95       115\n",
      "entertainment       0.97      0.94      0.96        72\n",
      "     politics       0.91      0.99      0.95        76\n",
      "        sport       1.00      0.99      1.00       102\n",
      "         tech       0.94      0.94      0.94        80\n",
      "\n",
      "     accuracy                           0.96       445\n",
      "    macro avg       0.96      0.96      0.96       445\n",
      " weighted avg       0.96      0.96      0.96       445\n",
      "\n"
     ]
    }
   ],
   "source": [
    "from sklearn.metrics import classification_report, confusion_matrix\n",
    "\n",
    "# Evaluating the model\n",
    "print(confusion_matrix(y_test, y_pred))\n",
    "print(classification_report(y_test, y_pred))"
   ]
  },
  {
   "cell_type": "markdown",
   "metadata": {},
   "source": [
    "Homework question #1: In this model, how many business news has been falsely identified as tech news?\n",
    "\n",
    "Answer: There's 6% of business news has been falsely ideentified. (My Question: How do we know it has been falsely identified as tech news?)\n",
    "\n",
    "Homework question #2: Explain what does 0.96 precision mean for business class?\n",
    "\n",
    "Answer: It correctly identified as being business news out of (correctly identified + falsely identified as being business news).\n",
    "\n",
    "Homework question #3: Explain what does 0.94 recall mean for tech?\n",
    "\n",
    "Answer: It correctly identified as being tech news out of all the real business news.\n",
    "\n",
    "Homework question #4: Find a case where we need to recall as metric to measure model performance?\n",
    "\n",
    "Answer: "
   ]
  },
  {
   "cell_type": "markdown",
   "metadata": {},
   "source": []
  }
 ],
 "metadata": {
  "kernelspec": {
   "display_name": "azure",
   "language": "python",
   "name": "python3"
  },
  "language_info": {
   "codemirror_mode": {
    "name": "ipython",
    "version": 3
   },
   "file_extension": ".py",
   "mimetype": "text/x-python",
   "name": "python",
   "nbconvert_exporter": "python",
   "pygments_lexer": "ipython3",
   "version": "3.9.18"
  }
 },
 "nbformat": 4,
 "nbformat_minor": 2
}
